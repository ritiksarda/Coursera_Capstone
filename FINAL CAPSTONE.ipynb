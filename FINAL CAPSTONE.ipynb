{
    "cells": [
        {
            "cell_type": "markdown",
            "metadata": {
                "collapsed": true
            },
            "source": "# Battle-of-Neighbourhoods-Part-1"
        },
        {
            "cell_type": "markdown",
            "metadata": {},
            "source": "### 1) INTRODUCTION / BUSINESS PROBLEM:"
        },
        {
            "cell_type": "markdown",
            "metadata": {},
            "source": "Mall may refer to a shopping mall, a strip mall, or a pedestrian street or an esplanade (a long open area where people can walk, which is the original meaning of the word).Brand like McD to LEVIS are there in the mall. It is a huge place for all the things a person can buy under a single roof. \n\n#### PROBLEM: \nThere is a huge range of customer who visits a mall daily and they can be diffrentiated on the basis of their age, gender, shopping style and expense ratio. So it will be better and convenient if customer of specific group knows all about the products they can purchase inside the mall. \nThe idea of this study is to help shopkeepers of mall and brands to decide the recommendation of products as per customer's gender, age and income range. This can help them in the way that they should target specific group of customers and provide them wide range of products and services.\n"
        },
        {
            "cell_type": "markdown",
            "metadata": {},
            "source": "### 2) SOURCE DATA:"
        },
        {
            "cell_type": "markdown",
            "metadata": {},
            "source": "To provide the shopkeepers and brands the necessary information I'll be downloading .csv file from https://www.kaggle.com/vjchoudhary7/customer-segmentation-tutorial-in-python and used IBM WATSON STUDIO- JUPYTER NOTEBOOK to execute and show my work."
        },
        {
            "cell_type": "markdown",
            "metadata": {},
            "source": "### 3) METHODOLOGY:"
        },
        {
            "cell_type": "markdown",
            "metadata": {},
            "source": "Firstly, I use Foursquare API to find out the no. of malls in specific city. Here I consider Toronto as  city . For this report I used a few bar graphs that could help the shopkeepers and brands to decide the best customer to target there products in order to gain maximum profit in minimun investment. In order to do that I've used the Kaggle platform https://www.kaggle.com/vjchoudhary7/customer-segmentation-tutorial-in-python to derive data along with Decision Tree Classifier to predict the results with accuracy. Also I used the pandas and numpy with matplotlib libraries of python. I have imported them and worked on my dataset by using them. Various plots helps me to figure out the results.\n\n"
        },
        {
            "cell_type": "markdown",
            "metadata": {},
            "source": "### 4) RESULTS:"
        },
        {
            "cell_type": "markdown",
            "metadata": {},
            "source": "By comparing the graphs, we could notice majority of the customer by age,gender and income range. Also we could predict the sales using Decision Tree Classifier. We can easily see that female buyers are more than the male buyers so that the sellers can advertise their product by keeping in mind that the gender ratio is somehow 7:3 and thus they can sell their products more efficiently. Persons with high income spends more money inside the malls in purchasing products and they purchase more costlier products than the cheaper products. Thus income range is a very major variable. Age is another crucial factor. All these factors when sum up gives me a permutation and combination of results and hence a common result is laid down.  "
        },
        {
            "cell_type": "markdown",
            "metadata": {},
            "source": "### 5) DISCUSSION:"
        },
        {
            "cell_type": "markdown",
            "metadata": {},
            "source": "When I started this study, I initially was planning on to use API and execute k- means clustering to find clusters of customer groups, so that it would give a clear idea of more demanded projects. My future work would be to find the project recommendation clusters.\n"
        },
        {
            "cell_type": "markdown",
            "metadata": {},
            "source": "### 6) CONCLUSION:"
        },
        {
            "cell_type": "markdown",
            "metadata": {},
            "source": "This report would be helpful for shopkeepers of malls and brands to decide there product recommendations as per customer's gender, age and income range. Because all this variables have different impact on the results. As young person buys frequently but there are some exceptions, as this can be an example of variable age factor. Females are known for more shopping than there male counterparts. According to a survey 7 out of 10 items are bought are by womans. This can be gender variable example. However, it would be necessary to analyse all variables such as age, gender and income. Thus, further exploration is required."
        }
    ],
    "metadata": {
        "kernelspec": {
            "display_name": "Python 3.6",
            "language": "python",
            "name": "python3"
        },
        "language_info": {
            "codemirror_mode": {
                "name": "ipython",
                "version": 3
            },
            "file_extension": ".py",
            "mimetype": "text/x-python",
            "name": "python",
            "nbconvert_exporter": "python",
            "pygments_lexer": "ipython3",
            "version": "3.6.9"
        }
    },
    "nbformat": 4,
    "nbformat_minor": 1
}